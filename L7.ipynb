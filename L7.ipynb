{
 "cells": [
  {
   "cell_type": "markdown",
   "metadata": {},
   "source": [
    "# Review\n",
    "- Erdos-Renyi Random Graph Model\n",
    "  - mean degree of a node: <k> = (n-1) * p\n",
    "- If n is large and <k> is some fixed constant, the degree distribution is approximatley Poisson(c)\n",
    "- Clustering Coefficient $C_i = p = \\frac{<k>}{n-1}$\n",
    "- We can redefine cc for random graph as:\n",
    "    Pr(connected(i,j) | connected(i,x)&&connected(j,x) )\n",
    "- ER graphs have a much smaller cluserting coefficent than real-world social network"
   ]
  },
  {
   "cell_type": "markdown",
   "metadata": {},
   "source": [
    "# Existence and size of a Giant Component"
   ]
  },
  {
   "cell_type": "markdown",
   "metadata": {},
   "source": []
  }
 ],
 "metadata": {
  "kernelspec": {
   "display_name": "Python 3.10.4 ('ds')",
   "language": "python",
   "name": "python3"
  },
  "language_info": {
   "name": "python",
   "version": "3.10.4"
  },
  "orig_nbformat": 4,
  "vscode": {
   "interpreter": {
    "hash": "41af028af823f43b75c2c20ea16fbca771c765270e4c84d9dca821bfdd5f0240"
   }
  }
 },
 "nbformat": 4,
 "nbformat_minor": 2
}
