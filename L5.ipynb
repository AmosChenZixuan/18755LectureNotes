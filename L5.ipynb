{
 "cells": [
  {
   "cell_type": "markdown",
   "id": "e7065437",
   "metadata": {},
   "source": [
    "# Robustness against node removals\n",
    "\n",
    "- random attacks/failures\n",
    "    - powler-law distribution. because the likelihood of hubs being attcked is low\n",
    "- targeted attacks\n",
    "    - poisson dustribution. because the damage of losing any node is less than losing a hub"
   ]
  },
  {
   "cell_type": "markdown",
   "id": "3b29cead",
   "metadata": {},
   "source": [
    "# Identifying Power-law degree distribution from real-world data\n",
    "\n",
    "Reduced to identifying scale-free distribution from the completmentary cumulative distribution function (CCDF)\n",
    "\n",
    "```\n",
    "def CCDF():\n",
    "    Pr(degree > x) = C * x^(-gamma+1)  for constant C\n",
    "    \n",
    "def CDF():\n",
    "    Pr(degree <= x) = 1 - C * x^(-gamma+1)\n",
    "    \n",
    "\n",
    "\n",
    "```"
   ]
  },
  {
   "cell_type": "markdown",
   "id": "65c9acbc",
   "metadata": {},
   "source": [
    "# how to model networks\n",
    "mathematical models enable understanding how the topological features of the network affect the spreading process over the network\n",
    "    - epedemic spread\n",
    "    - info / influence propa"
   ]
  }
 ],
 "metadata": {
  "kernelspec": {
   "display_name": "Python 3 (ipykernel)",
   "language": "python",
   "name": "python3"
  },
  "language_info": {
   "codemirror_mode": {
    "name": "ipython",
    "version": 3
   },
   "file_extension": ".py",
   "mimetype": "text/x-python",
   "name": "python",
   "nbconvert_exporter": "python",
   "pygments_lexer": "ipython3",
   "version": "3.9.7"
  }
 },
 "nbformat": 4,
 "nbformat_minor": 5
}
