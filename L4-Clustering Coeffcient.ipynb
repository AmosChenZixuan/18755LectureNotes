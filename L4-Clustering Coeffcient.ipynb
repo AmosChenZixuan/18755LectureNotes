{
 "cells": [
  {
   "cell_type": "markdown",
   "id": "67ae81e7",
   "metadata": {},
   "source": [
    "# Review\n",
    "\n",
    "## component\n",
    "- A subgraph that is connected and has no edges with the rest of the nodes\n",
    "    - if G is connected, then it contains only one component\n",
    "    \n",
    "## kappa_v\n",
    "- minimum number of verticies that should be deleted to make the graph NOT connected\n",
    "\n",
    "## kappa_e\n",
    "- minimum number of edges that should be deleted to make the graph NOT connected\n",
    "\n",
    "## k_min\n",
    "- minimum node degree in the graph\n",
    "\n",
    "$$ \n",
    "\\kappa_v <= \\kappa_e <= k_{min}\n",
    "$$"
   ]
  },
  {
   "cell_type": "markdown",
   "id": "ad652a01",
   "metadata": {},
   "source": [
    "## K-connectivity\n",
    "- a graph is k-vertext-connected if $$\\kappa_v >= k$$\n",
    "- a graph is k-edge-connected if $$\\kappa_e >= k$$\n",
    "- we say that a graph is k-connected if both\n",
    "    k-vertext-connected and k-edge-connected\n",
    "    \n",
    "### if G is k-connected\n",
    "- there exists k independent path between every pair of nodes\n",
    "- G will remain connected if any k-1 edge or vertices are removed"
   ]
  },
  {
   "cell_type": "markdown",
   "id": "e73298c2",
   "metadata": {},
   "source": [
    "==================================="
   ]
  },
  {
   "cell_type": "markdown",
   "id": "1a17eb1d",
   "metadata": {},
   "source": [
    "# Clustering Coefficient\n",
    "measures the likelihood of two nodes being connected\n"
   ]
  },
  {
   "cell_type": "markdown",
   "id": "0b77445b",
   "metadata": {},
   "source": [
    "## Local CC of a vertex:\n",
    "vp = # of pairs of neighbors of v_i that are adjacent\\\n",
    "tp = total number of paris of neighbors \n",
    "\n",
    "$$\n",
    " C_i = \\frac{vp}{tp}\n",
    "$$\n",
    "\n",
    "if k_i = 1, then C_i = 0\n",
    "- a low clustering coefficent means high centrality / importance within your neighborhood.Many nodes are indirectely connected via you"
   ]
  },
  {
   "cell_type": "markdown",
   "id": "65360a65",
   "metadata": {},
   "source": [
    " ## Average CC of a graph:\n",
    " $$ C_{avg} = \\frac{1}{n} \\sum_{i}^{n}C_i $$"
   ]
  },
  {
   "cell_type": "markdown",
   "id": "153c4eda",
   "metadata": {},
   "source": [
    "# Glogal CC of a graph:\n",
    "nt = number of triangle in the graph\n",
    "$$\n",
    " C_{\\Delta} = \\frac{3* nt}{\\sum_{i}^{n} comb(k_i,2)}\n",
    "$$"
   ]
  },
  {
   "cell_type": "markdown",
   "id": "5e73fdfb",
   "metadata": {},
   "source": [
    "=========================="
   ]
  },
  {
   "cell_type": "markdown",
   "id": "593299c5",
   "metadata": {},
   "source": [
    "# Network Centrality Metrics\n",
    "How do measure the importance of a node?\n",
    "\n",
    "## Degree Centrality\n",
    "- the more connected is the node, the more important it is\n",
    "\n",
    "## Betweenness Centrality\n",
    "- captures the number of times v_i is in the shortest paths between two other nodes\n",
    "\n"
   ]
  }
 ],
 "metadata": {
  "kernelspec": {
   "display_name": "Python 3 (ipykernel)",
   "language": "python",
   "name": "python3"
  },
  "language_info": {
   "codemirror_mode": {
    "name": "ipython",
    "version": 3
   },
   "file_extension": ".py",
   "mimetype": "text/x-python",
   "name": "python",
   "nbconvert_exporter": "python",
   "pygments_lexer": "ipython3",
   "version": "3.9.7"
  }
 },
 "nbformat": 4,
 "nbformat_minor": 5
}
